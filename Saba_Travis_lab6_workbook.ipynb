{
 "cells": [
  {
   "cell_type": "markdown",
   "metadata": {
    "colab_type": "text",
    "id": "u1YDPNtbdHDj"
   },
   "source": [
    "# Probability Distribution\n",
    "\n",
    "## PETE 2061 Lab 6 Workbook \n",
    "\n",
    "## THIS LAB IS DUE BY 10:20 am!!\n",
    "\n",
    "<a id='top'></a>"
   ]
  },
  {
   "cell_type": "markdown",
   "metadata": {
    "colab_type": "text",
    "id": "krWd44XodHDp"
   },
   "source": [
    "<a id='variables'></a>\n",
    "## Volumetric Reserves Estimation\n",
    "The Stock-tank Oil Initially In Place (STOIIP) is the amount of oil that is stored in an oil reservoir. Assuming that the pore spaces in the reservoir are filled with water and oil only, the STOIIP can be estimated using the formula:<br><br>\n",
    "$STOIIP = 7758 Ah\\phi(1-S_{wi})/B_{oi}$ <br><br>\n",
    "where $A$ is the area of the reservoir in acres, <br>\n",
    "$h$ is the reservoir thickness in feet (ft), <br>\n",
    "$S_{wi}$ is the initial water saturation of the reservoir. It is the ratio of the volume of water initially in the reservoir to the total pore volume in the reservoir. It can either be expressed as a fraction or percentage. <br>\n",
    "$B_{oi}$ is the initial oil formation volume factor. It is the ratio of the volume of oil at reservoir conditions (measured in units of reservoir barrels, rb) to the volume of oil at standard conditions (measured in units of stock tank barrels, stb). This means that the unit of $B_{oi}$ is $\\frac{rb}{stb}$ <br>\n",
    "$\\phi$ is the porosity of the reservoir. It is the ratio of the pore volume to the bulk volume, and can be expressed as a fraction or in percentage.<br>\n",
    "7758 is the conversion factor from acre-ft to barrels (bbl or rb) <br><br>\n",
    "\n",
    "All the variables are assumed to be normally distributed with the mean and standard deviation given using the nomenclaturre (mean, std) below:<br>\n",
    "A = (mean=300,std=25)  $\\hspace{22pt}$ # in acres (store this value in a variable called \"area\")<br>\n",
    "h = (60,10) $\\hspace{27pt}$ # in feet (store this value in a variable called \"h\") <br>\n",
    "$\\phi$ = (0.34,0.1) $\\hspace{19pt}$ # fraction (store this value in a variable called \"poro\")<br>\n",
    "$S_{wi}$ = (0.26,0.05) $\\hspace{15pt}$ # fraction (store this value in a variable called \"s_wi\")<br>\n",
    "$B_{oi}$ = (1.15,0.07) $\\hspace{19pt}$ # rb/stb (store this value in a variable called \"b_oi\")<br>"
   ]
  },
  {
   "cell_type": "markdown",
   "metadata": {},
   "source": [
    "1. Using only the mean values given above, write a Python code that calculates and stores the STOIIP value into a variable named \"stoiip\", and then prints this STOIIP value and unit using a formatted print statement."
   ]
  },
  {
   "cell_type": "code",
   "execution_count": 1,
   "metadata": {},
   "outputs": [
    {
     "name": "stdout",
     "output_type": "stream",
     "text": [
      "STOIIP = 30551678.608695652\n"
     ]
    }
   ],
   "source": [
    "area=300\n",
    "h=60\n",
    "poro = 0.34\n",
    "swi = 0.26\n",
    "b_oi = 1.15\n",
    "\n",
    "stoiip = (7758*area*h*poro*(1-swi))/b_oi\n",
    "print(\"STOIIP = \" + str(stoiip))"
   ]
  },
  {
   "cell_type": "markdown",
   "metadata": {},
   "source": [
    "2. Import the numpy, pandas and matplotlit.pyplot libraries"
   ]
  },
  {
   "cell_type": "code",
   "execution_count": 3,
   "metadata": {},
   "outputs": [
    {
     "name": "stdout",
     "output_type": "stream",
     "text": [
      "STOIIP = 30551678.608695652\n"
     ]
    }
   ],
   "source": [
    "import numpy as np\n",
    "import pandas as pd\n",
    "import matplotlib.pyplot as plt\n",
    "area=300\n",
    "h=60\n",
    "poro = 0.34\n",
    "swi = 0.26\n",
    "b_oi = 1.15\n",
    "\n",
    "stoiip = (7758*area*h*poro*(1-swi))/b_oi\n",
    "print(\"STOIIP = \" + str(stoiip))"
   ]
  },
  {
   "cell_type": "markdown",
   "metadata": {},
   "source": [
    "3. Create a variable named nSamples, and assign it to 10000. <br>\n",
    "4. Using the given mean and std values, generate \"nSamples\" of area, h, poro, s_wi and b_oi. These should all be normally-distributed. Use the appropriate function from np.random library<br>\n",
    "HINT: It is wise to start out by first setting nSamples to 10 and printing out your computations to be sure everything is working as expected. You should then set it to 10000 when you are convinced everything is working as expected."
   ]
  },
  {
   "cell_type": "code",
   "execution_count": 6,
   "metadata": {},
   "outputs": [
    {
     "name": "stdout",
     "output_type": "stream",
     "text": [
      "STOIIP = [27953398.97755276 17840080.50779357 20548849.84822387 31580266.71583755\n",
      " 23662767.68798907 29768708.25808824 44560064.93349294 36915594.0140407\n",
      " 31364436.9780136  31055754.49927907]\n"
     ]
    }
   ],
   "source": [
    "import numpy as np\n",
    "import pandas as pd\n",
    "import matplotlib.pyplot as plt\n",
    "\n",
    "\n",
    "nSamples = 10000\n",
    "\n",
    "std_area = 25\n",
    "mean_area = 300\n",
    "\n",
    "std_poro = 0.01\n",
    "mean_poro = 0.34\n",
    "\n",
    "std_h = 10\n",
    "mean_h = 60\n",
    "\n",
    "std_swi = 0.05\n",
    "mean_swi = 0.26\n",
    "\n",
    "std_boi = 0.07\n",
    "mean_boi = 1.15\n",
    "\n",
    "\n",
    "area = np.random.normal(mean_area, std_area, nSamples) \n",
    "poro = np.random.normal(mean_poro, std_poro, nSamples) \n",
    "h = np.random.normal(mean_h, std_h, nSamples) \n",
    "swi = np.random.normal(mean_swi, std_swi, nSamples) \n",
    "boi = np.random.normal(mean_boi, std_boi, nSamples) \n",
    "\n",
    "\n",
    "\n"
   ]
  },
  {
   "cell_type": "markdown",
   "metadata": {},
   "source": [
    "5. Compute the stoiip values corresponding to the nSamples for all the variables computed in 4 above.<br>\n",
    "Hint: Note that all the input variables from (4) above are numpy arrays. So, you should vectorize the calculations, by writing just one line of code to compute the STOIIP. <br>\n",
    "Do not use a for loop. It is slow compared to vectorization.<br>\n",
    "**For 10 points of extra-credit you can use a for loop and time both approaches, then report the the percentage speed-up, but this should be done only after you have completed all the steps in this lab workbook.**"
   ]
  },
  {
   "cell_type": "code",
   "execution_count": null,
   "metadata": {},
   "outputs": [],
   "source": [
    "import numpy as np\n",
    "import pandas as pd\n",
    "import matplotlib.pyplot as plt\n",
    "\n",
    "\n",
    "nSamples = 10000\n",
    "\n",
    "std_area = 25\n",
    "mean_area = 300\n",
    "\n",
    "std_poro = 0.01\n",
    "mean_poro = 0.34\n",
    "\n",
    "std_h = 10\n",
    "mean_h = 60\n",
    "\n",
    "std_swi = 0.05\n",
    "mean_swi = 0.26\n",
    "\n",
    "std_boi = 0.07\n",
    "mean_boi = 1.15\n",
    "\n",
    "\n",
    "area = np.random.normal(mean_area, std_area, nSamples) \n",
    "poro = np.random.normal(mean_poro, std_poro, nSamples) \n",
    "h = np.random.normal(mean_h, std_h, nSamples) \n",
    "swi = np.random.normal(mean_swi, std_swi, nSamples) \n",
    "boi = np.random.normal(mean_boi, std_boi, nSamples) \n",
    "\n",
    "\n",
    "\n",
    "stoiip = (7758*area*h*poro*(1-swi))/b_oi\n",
    "print(\"STOIIP = \" + str(stoiip))"
   ]
  },
  {
   "cell_type": "markdown",
   "metadata": {},
   "source": [
    "6. Store the results in a pandas DataFrame with a column name \"STOIIP\". Display the first five rows of the stoiip using the .head() function of the pandas DataFrame object."
   ]
  },
  {
   "cell_type": "code",
   "execution_count": 13,
   "metadata": {},
   "outputs": [
    {
     "name": "stdout",
     "output_type": "stream",
     "text": [
      "[22273467.90609732 37185398.96133977 35714422.68646295 ...\n",
      " 31644007.48703296 33119948.22608227 27947878.49306656]\n"
     ]
    }
   ],
   "source": [
    "import numpy as np\n",
    "import pandas as pd\n",
    "import matplotlib.pyplot as plt\n",
    "\n",
    "\n",
    "nSamples = 10000\n",
    "\n",
    "std_area = 25\n",
    "mean_area = 300\n",
    "\n",
    "std_poro = 0.01\n",
    "mean_poro = 0.34\n",
    "\n",
    "std_h = 10\n",
    "mean_h = 60\n",
    "\n",
    "std_swi = 0.05\n",
    "mean_swi = 0.26\n",
    "\n",
    "std_boi = 0.07\n",
    "mean_boi = 1.15\n",
    "\n",
    "\n",
    "area = np.random.normal(mean_area, std_area, nSamples) \n",
    "poro = np.random.normal(mean_poro, std_poro, nSamples) \n",
    "h = np.random.normal(mean_h, std_h, nSamples) \n",
    "swi = np.random.normal(mean_swi, std_swi, nSamples) \n",
    "boi = np.random.normal(mean_boi, std_boi, nSamples) \n",
    "\n",
    "stoiip = (7758*area*h*poro*(1-swi))/b_oi\n",
    "print(stoiip)\n"
   ]
  },
  {
   "cell_type": "markdown",
   "metadata": {},
   "source": [
    "7. Plot the probability density function (pdf) of these 10,000 values of STOIIP"
   ]
  },
  {
   "cell_type": "code",
   "execution_count": 24,
   "metadata": {},
   "outputs": [
    {
     "data": {
      "image/png": "[encoded data removed]",
      "text/plain": [
       "<Figure size 432x288 with 1 Axes>"
      ]
     },
     "metadata": {
      "needs_background": "light"
     },
     "output_type": "display_data"
    }
   ],
   "source": [
    "import numpy as np\n",
    "import pandas as pd\n",
    "import matplotlib.pyplot as plt\n",
    "import scipy.stats as ss\n",
    "\n",
    "nSamples = 10000\n",
    "\n",
    "std_area = 25\n",
    "mean_area = 300\n",
    "\n",
    "std_poro = 0.01\n",
    "mean_poro = 0.34\n",
    "\n",
    "std_h = 10\n",
    "mean_h = 60\n",
    "\n",
    "std_swi = 0.05\n",
    "mean_swi = 0.26\n",
    "\n",
    "std_boi = 0.07\n",
    "mean_boi = 1.15\n",
    "\n",
    "\n",
    "area = np.random.normal(mean_area, std_area, nSamples) \n",
    "poro = np.random.normal(mean_poro, std_poro, nSamples) \n",
    "h = np.random.normal(mean_h, std_h, nSamples) \n",
    "swi = np.random.normal(mean_swi, std_swi, nSamples) \n",
    "boi = np.random.normal(mean_boi, std_boi, nSamples) \n",
    "\n",
    "stoiip = (7758*area*h*poro*(1-swi))/b_oi\n",
    "\n",
    "\n",
    "mu,sigma = 0,1    #what kind or normal distribution has a mean of 0 and a standard deviation of 1?\n",
    "\n",
    "y_cdf = ss.norm.cdf(stoiip, mu, sigma) # the normal cdf\n",
    "y_pdf = ss.norm.pdf(stoiip, mu, sigma) # the normal pdf \n",
    "\n",
    "\n",
    "plt.plot(stoiip, y_pdf, label='pdf') \n",
    "\n",
    "plt.legend();\n"
   ]
  },
  {
   "cell_type": "markdown",
   "metadata": {},
   "source": [
    "8. Plot the cumulative distribution function (cdf) of these 10,000 values of STOIIP <br>\n",
    "9. On this cdf plot, use vertical lines to show the $P_10$, $P_50$, and $P_90$ values of the STOIIP."
   ]
  },
  {
   "cell_type": "code",
   "execution_count": 30,
   "metadata": {},
   "outputs": [
    {
     "data": {
      "image/png": "[encoded data removed]",
      "text/plain": [
       "<Figure size 432x288 with 1 Axes>"
      ]
     },
     "metadata": {
      "needs_background": "light"
     },
     "output_type": "display_data"
    }
   ],
   "source": [
    "import numpy as np\n",
    "import pandas as pd\n",
    "import matplotlib.pyplot as plt\n",
    "import scipy.stats as ss\n",
    "\n",
    "nSamples = 10000\n",
    "\n",
    "std_area = 25\n",
    "mean_area = 300\n",
    "\n",
    "std_poro = 0.01\n",
    "mean_poro = 0.34\n",
    "\n",
    "std_h = 10\n",
    "mean_h = 60\n",
    "\n",
    "std_swi = 0.05\n",
    "mean_swi = 0.26\n",
    "\n",
    "std_boi = 0.07\n",
    "mean_boi = 1.15\n",
    "\n",
    "\n",
    "area = np.random.normal(mean_area, std_area, nSamples) \n",
    "poro = np.random.normal(mean_poro, std_poro, nSamples) \n",
    "h = np.random.normal(mean_h, std_h, nSamples) \n",
    "swi = np.random.normal(mean_swi, std_swi, nSamples) \n",
    "boi = np.random.normal(mean_boi, std_boi, nSamples) \n",
    "\n",
    "stoiip = (7758*area*h*poro*(1-swi))/b_oi\n",
    "\n",
    "mu,sigma = 0,1   \n",
    "\n",
    "y_cdf = ss.norm.cdf(stoiip, mu, sigma) # the normal cdf\n",
    "y_pdf = ss.norm.pdf(stoiip, mu, sigma) # the normal pdf \n",
    "\n",
    "\n",
    "plt.plot(stoiip, y_cdf, label='cdf') \n",
    "\n",
    "plt.legend();\n"
   ]
  },
  {
   "cell_type": "markdown",
   "metadata": {},
   "source": [
    "10. In one line display the 10th, 50th and 90th percentiles of the STOIIP values. <br>\n",
    "Hint: use the quantile function, and pass in a list of the percentiles as a fraction \n",
    "11. In a new markdown cell, type out what the P10, P50 and P90 estimates of the STOIIP are"
   ]
  },
  {
   "cell_type": "code",
   "execution_count": 21,
   "metadata": {},
   "outputs": [
    {
     "name": "stdout",
     "output_type": "stream",
     "text": [
      "The percentile corresponding to a value of 0.1 in the standard normal distribution is 0.539827837277029\n",
      "The percentile corresponding to a value of 0.5 in the standard normal distribution is 0.6914624612740131\n",
      "The percentile corresponding to a value of .9 in the standard normal distribution is 0.8159398746532405\n",
      "The value at a percentile of 10% in a standard normal distribution is -1.2815515655446004\n",
      "The value at a percentile of 50% in a standard normal distribution is 0.0\n",
      "The value at a percentile of 90% in a standard normal distribution is 1.2815515655446004\n"
     ]
    },
    {
     "data": {
      "image/png": "[encoded data removed]",
      "text/plain": [
       "<Figure size 432x288 with 1 Axes>"
      ]
     },
     "metadata": {
      "needs_background": "light"
     },
     "output_type": "display_data"
    }
   ],
   "source": [
    "\n",
    "import numpy as np\n",
    "import pandas as pd\n",
    "import matplotlib.pyplot as plt\n",
    "import scipy.stats as ss\n",
    "\n",
    "nSamples = 10000\n",
    "\n",
    "std_area = 25\n",
    "mean_area = 300\n",
    "\n",
    "std_poro = 0.01\n",
    "mean_poro = 0.34\n",
    "\n",
    "std_h = 10\n",
    "mean_h = 60\n",
    "\n",
    "std_swi = 0.05\n",
    "mean_swi = 0.26\n",
    "\n",
    "std_boi = 0.07\n",
    "mean_boi = 1.15\n",
    "\n",
    "\n",
    "area = np.random.normal(mean_area, std_area, nSamples) \n",
    "poro = np.random.normal(mean_poro, std_poro, nSamples) \n",
    "h = np.random.normal(mean_h, std_h, nSamples) \n",
    "swi = np.random.normal(mean_swi, std_swi, nSamples) \n",
    "boi = np.random.normal(mean_boi, std_boi, nSamples) \n",
    "\n",
    "stoiip = (7758*area*h*poro*(1-swi))/b_oi\n",
    "\n",
    "y_pdf = ss.norm.pdf(stoiip) \n",
    "y_cdf = ss.norm.cdf(stoiip)\n",
    "plt.plot(stoiip, y_pdf, label='pdf1')\n",
    "plt.plot(stoiip, y_cdf, label='cdf1')\n",
    "\n",
    "print(f\"The percentile corresponding to a value of 0.1 in the standard normal distribution is {ss.norm.cdf(0.1)}\")\n",
    "print(f\"The percentile corresponding to a value of 0.5 in the standard normal distribution is {ss.norm.cdf(0.5)}\")\n",
    "print(f\"The percentile corresponding to a value of .9 in the standard normal distribution is {ss.norm.cdf(0.9)}\")\n",
    "\n",
    "print(f\"The value at a percentile of 10% in a standard normal distribution is {ss.norm.ppf(0.1)}\")\n",
    "print(f\"The value at a percentile of 50% in a standard normal distribution is {ss.norm.ppf(0.5)}\")\n",
    "print(f\"The value at a percentile of 90% in a standard normal distribution is {ss.norm.ppf(0.9)}\")"
   ]
  },
  {
   "cell_type": "code",
   "execution_count": null,
   "metadata": {},
   "outputs": [],
   "source": []
  }
 ],
 "metadata": {
  "colab": {
   "collapsed_sections": [
    "sYQs3O-6dHFb",
    "8sIJ4A57dHFk",
    "_73RPOcBdHFn",
    "h9s2tfPcdHFo",
    "zt4YHVYPdHGR"
   ],
   "include_colab_link": true,
   "name": "Copy of intro-python-colab.ipynb",
   "provenance": [],
   "version": "0.3.2"
  },
  "kernelspec": {
   "display_name": "Python 3",
   "language": "python",
   "name": "python3"
  },
  "language_info": {
   "codemirror_mode": {
    "name": "ipython",
    "version": 3
   },
   "file_extension": ".py",
   "mimetype": "text/x-python",
   "name": "python",
   "nbconvert_exporter": "python",
   "pygments_lexer": "ipython3",
   "version": "3.7.4"
  }
 },
 "nbformat": 4,
 "nbformat_minor": 4
}
